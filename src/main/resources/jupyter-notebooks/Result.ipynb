{
 "cells": [
  {
   "cell_type": "code",
   "execution_count": 1,
   "metadata": {
    "collapsed": true
   },
   "outputs": [],
   "source": [
    "import pandas as pd"
   ]
  },
  {
   "cell_type": "code",
   "execution_count": 12,
   "metadata": {},
   "outputs": [
    {
     "data": {
      "text/html": [
       "<div>\n",
       "<style scoped>\n",
       "    .dataframe tbody tr th:only-of-type {\n",
       "        vertical-align: middle;\n",
       "    }\n",
       "\n",
       "    .dataframe tbody tr th {\n",
       "        vertical-align: top;\n",
       "    }\n",
       "\n",
       "    .dataframe thead th {\n",
       "        text-align: right;\n",
       "    }\n",
       "</style>\n",
       "<table border=\"1\" class=\"dataframe\">\n",
       "  <thead>\n",
       "    <tr style=\"text-align: right;\">\n",
       "      <th></th>\n",
       "      <th>purchaseId</th>\n",
       "      <th>purchaseTime</th>\n",
       "      <th>billingCost</th>\n",
       "      <th>isConfirmed</th>\n",
       "      <th>sessionId</th>\n",
       "      <th>campaignId</th>\n",
       "      <th>channelId</th>\n",
       "    </tr>\n",
       "  </thead>\n",
       "  <tbody>\n",
       "    <tr>\n",
       "      <th>0</th>\n",
       "      <td>p2</td>\n",
       "      <td>2019-01-01 0:03:10</td>\n",
       "      <td>200.0</td>\n",
       "      <td>True</td>\n",
       "      <td>u2_0</td>\n",
       "      <td>cmp1</td>\n",
       "      <td>Yandex Ads</td>\n",
       "    </tr>\n",
       "    <tr>\n",
       "      <th>1</th>\n",
       "      <td>p3</td>\n",
       "      <td>2019-01-01 1:12:15</td>\n",
       "      <td>300.0</td>\n",
       "      <td>False</td>\n",
       "      <td>u3_1</td>\n",
       "      <td>cmp1</td>\n",
       "      <td>Google Ads</td>\n",
       "    </tr>\n",
       "    <tr>\n",
       "      <th>2</th>\n",
       "      <td>p6</td>\n",
       "      <td>2019-01-02 13:03:00</td>\n",
       "      <td>99.0</td>\n",
       "      <td>False</td>\n",
       "      <td>u3_2</td>\n",
       "      <td>cmp2</td>\n",
       "      <td>Yandex Ads</td>\n",
       "    </tr>\n",
       "    <tr>\n",
       "      <th>3</th>\n",
       "      <td>p4</td>\n",
       "      <td>2019-01-01 2:13:05</td>\n",
       "      <td>50.2</td>\n",
       "      <td>True</td>\n",
       "      <td>u3_3</td>\n",
       "      <td>cmp2</td>\n",
       "      <td>Yandex Ads</td>\n",
       "    </tr>\n",
       "    <tr>\n",
       "      <th>4</th>\n",
       "      <td>p5</td>\n",
       "      <td>2019-01-01 2:15:05</td>\n",
       "      <td>75.0</td>\n",
       "      <td>True</td>\n",
       "      <td>u3_3</td>\n",
       "      <td>cmp2</td>\n",
       "      <td>Yandex Ads</td>\n",
       "    </tr>\n",
       "    <tr>\n",
       "      <th>5</th>\n",
       "      <td>p1</td>\n",
       "      <td>2019-01-01 0:01:05</td>\n",
       "      <td>100.5</td>\n",
       "      <td>True</td>\n",
       "      <td>u1_0</td>\n",
       "      <td>cmp1</td>\n",
       "      <td>Google Ads</td>\n",
       "    </tr>\n",
       "  </tbody>\n",
       "</table>\n",
       "</div>"
      ],
      "text/plain": [
       "  purchaseId         purchaseTime  billingCost  isConfirmed sessionId  \\\n",
       "0         p2   2019-01-01 0:03:10        200.0         True      u2_0   \n",
       "1         p3   2019-01-01 1:12:15        300.0        False      u3_1   \n",
       "2         p6  2019-01-02 13:03:00         99.0        False      u3_2   \n",
       "3         p4   2019-01-01 2:13:05         50.2         True      u3_3   \n",
       "4         p5   2019-01-01 2:15:05         75.0         True      u3_3   \n",
       "5         p1   2019-01-01 0:01:05        100.5         True      u1_0   \n",
       "\n",
       "  campaignId   channelId  \n",
       "0       cmp1  Yandex Ads  \n",
       "1       cmp1  Google Ads  \n",
       "2       cmp2  Yandex Ads  \n",
       "3       cmp2  Yandex Ads  \n",
       "4       cmp2  Yandex Ads  \n",
       "5       cmp1  Google Ads  "
      ]
     },
     "execution_count": 12,
     "metadata": {},
     "output_type": "execute_result"
    }
   ],
   "source": [
    "task1 = pd.read_excel(\"../result/task1.xlsx\")\n",
    "\n",
    "task1.head(10)"
   ]
  },
  {
   "cell_type": "code",
   "execution_count": 14,
   "metadata": {},
   "outputs": [
    {
     "data": {
      "text/html": [
       "<div>\n",
       "<style scoped>\n",
       "    .dataframe tbody tr th:only-of-type {\n",
       "        vertical-align: middle;\n",
       "    }\n",
       "\n",
       "    .dataframe tbody tr th {\n",
       "        vertical-align: top;\n",
       "    }\n",
       "\n",
       "    .dataframe thead th {\n",
       "        text-align: right;\n",
       "    }\n",
       "</style>\n",
       "<table border=\"1\" class=\"dataframe\">\n",
       "  <thead>\n",
       "    <tr style=\"text-align: right;\">\n",
       "      <th></th>\n",
       "      <th>campaignId</th>\n",
       "      <th>totalBillingCost</th>\n",
       "    </tr>\n",
       "  </thead>\n",
       "  <tbody>\n",
       "    <tr>\n",
       "      <th>0</th>\n",
       "      <td>cmp1</td>\n",
       "      <td>300.5</td>\n",
       "    </tr>\n",
       "    <tr>\n",
       "      <th>1</th>\n",
       "      <td>cmp2</td>\n",
       "      <td>125.2</td>\n",
       "    </tr>\n",
       "  </tbody>\n",
       "</table>\n",
       "</div>"
      ],
      "text/plain": [
       "  campaignId  totalBillingCost\n",
       "0       cmp1             300.5\n",
       "1       cmp2             125.2"
      ]
     },
     "execution_count": 14,
     "metadata": {},
     "output_type": "execute_result"
    }
   ],
   "source": [
    "task2_campaign = pd.read_excel(\"../result/task2_campaigns.xlsx\")\n",
    "\n",
    "task2_campaign.head(10)"
   ]
  },
  {
   "cell_type": "code",
   "execution_count": 15,
   "metadata": {},
   "outputs": [
    {
     "data": {
      "text/html": [
       "<div>\n",
       "<style scoped>\n",
       "    .dataframe tbody tr th:only-of-type {\n",
       "        vertical-align: middle;\n",
       "    }\n",
       "\n",
       "    .dataframe tbody tr th {\n",
       "        vertical-align: top;\n",
       "    }\n",
       "\n",
       "    .dataframe thead th {\n",
       "        text-align: right;\n",
       "    }\n",
       "</style>\n",
       "<table border=\"1\" class=\"dataframe\">\n",
       "  <thead>\n",
       "    <tr style=\"text-align: right;\">\n",
       "      <th></th>\n",
       "      <th>campaignId</th>\n",
       "      <th>channelId</th>\n",
       "      <th>uniqueSessions</th>\n",
       "    </tr>\n",
       "  </thead>\n",
       "  <tbody>\n",
       "    <tr>\n",
       "      <th>0</th>\n",
       "      <td>cmp2</td>\n",
       "      <td>Yandex Ads</td>\n",
       "      <td>3</td>\n",
       "    </tr>\n",
       "    <tr>\n",
       "      <th>1</th>\n",
       "      <td>cmp1</td>\n",
       "      <td>Google Ads</td>\n",
       "      <td>2</td>\n",
       "    </tr>\n",
       "  </tbody>\n",
       "</table>\n",
       "</div>"
      ],
      "text/plain": [
       "  campaignId   channelId  uniqueSessions\n",
       "0       cmp2  Yandex Ads               3\n",
       "1       cmp1  Google Ads               2"
      ]
     },
     "execution_count": 15,
     "metadata": {},
     "output_type": "execute_result"
    }
   ],
   "source": [
    "task2_channel = pd.read_excel(\"../result/task2_channels.xlsx\")\n",
    "\n",
    "task2_channel.head(10)"
   ]
  }
 ],
 "metadata": {
  "kernelspec": {
   "display_name": "Python 3",
   "language": "python",
   "name": "python3"
  },
  "language_info": {
   "codemirror_mode": {
    "name": "ipython",
    "version": 3
   },
   "file_extension": ".py",
   "mimetype": "text/x-python",
   "name": "python",
   "nbconvert_exporter": "python",
   "pygments_lexer": "ipython3",
   "version": "3.6.3"
  }
 },
 "nbformat": 4,
 "nbformat_minor": 2
}
