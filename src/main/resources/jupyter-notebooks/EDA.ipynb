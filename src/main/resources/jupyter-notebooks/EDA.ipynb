{
 "cells": [
  {
   "cell_type": "code",
   "execution_count": 185,
   "metadata": {
    "collapsed": true
   },
   "outputs": [],
   "source": [
    "import pandas as pd\n",
    "import json\n",
    "import re\n",
    "\n",
    "from matplotlib import pyplot as plt\n",
    "import seaborn as sns\n",
    "%matplotlib inline"
   ]
  },
  {
   "cell_type": "code",
   "execution_count": 179,
   "metadata": {},
   "outputs": [
    {
     "name": "stdout",
     "output_type": "stream",
     "text": [
      "<class 'pandas.core.frame.DataFrame'>\n",
      "RangeIndex: 39 entries, 0 to 38\n",
      "Data columns (total 5 columns):\n",
      " #   Column      Non-Null Count  Dtype         \n",
      "---  ------      --------------  -----         \n",
      " 0   userId      39 non-null     object        \n",
      " 1   eventId     39 non-null     object        \n",
      " 2   eventTime   39 non-null     datetime64[ns]\n",
      " 3   eventType   39 non-null     object        \n",
      " 4   attributes  13 non-null     object        \n",
      "dtypes: datetime64[ns](1), object(4)\n",
      "memory usage: 1.6+ KB\n"
     ]
    }
   ],
   "source": [
    "df_c = pd.read_excel(\"../sample/mobile-app-clickstream_sample.xlsx\")\n",
    "df_c.info()"
   ]
  },
  {
   "cell_type": "code",
   "execution_count": 188,
   "metadata": {},
   "outputs": [
    {
     "data": {
      "image/png": "[encoded data removed]",
      "text/plain": [
       "<Figure size 432x432 with 1 Axes>"
      ]
     },
     "metadata": {},
     "output_type": "display_data"
    }
   ],
   "source": [
    "event_type_grouped = df_c.eventType.value_counts()\n",
    "\n",
    "def make_autopct(values):\n",
    "    def my_autopct(pct):\n",
    "        total = sum(values)\n",
    "        val = int(round(pct*total/100.0))\n",
    "        return '{p:.0f}%'.format(p=pct)\n",
    "    return my_autopct\n",
    "\n",
    "plt.figure(figsize=(6,6))\n",
    "\n",
    "plt.pie(event_type_grouped,\\\n",
    "        labels=event_type_grouped.keys(),\\\n",
    "        colors=['lightblue','bisque','lightcoral','cadetblue', 'gainsboro'],\\\n",
    "        autopct=make_autopct(event_type_grouped.values),\\\n",
    "        pctdistance=0.8,\\\n",
    "        explode = [0.1]*len(event_type_grouped),\\\n",
    "        textprops={'fontsize':14})\n",
    "\n",
    "plt.title('Event types',fontsize=16)\n",
    "\n",
    "plt.show()"
   ]
  },
  {
   "cell_type": "code",
   "execution_count": 183,
   "metadata": {},
   "outputs": [],
   "source": [
    "def get_purchase_id(line):\n",
    "    result = \"\"\n",
    "    \n",
    "    if not pd.isna(line):\n",
    "        # replace double '{}' characters and \"“\"\n",
    "        line = re.sub(\"^{{\", \"{\", line)\n",
    "        line = re.sub(\"}}$\", \"}\", line)\n",
    "        line = re.sub(\"“\", \"\\\"\", line)\n",
    "\n",
    "        parsed = json.loads(line)\n",
    "\n",
    "        if \"purchase_id\" in parsed:\n",
    "            result = parsed[\"purchase_id\"]\n",
    "\n",
    "    return result"
   ]
  },
  {
   "cell_type": "code",
   "execution_count": 184,
   "metadata": {},
   "outputs": [
    {
     "data": {
      "text/html": [
       "<div>\n",
       "<style scoped>\n",
       "    .dataframe tbody tr th:only-of-type {\n",
       "        vertical-align: middle;\n",
       "    }\n",
       "\n",
       "    .dataframe tbody tr th {\n",
       "        vertical-align: top;\n",
       "    }\n",
       "\n",
       "    .dataframe thead th {\n",
       "        text-align: right;\n",
       "    }\n",
       "</style>\n",
       "<table border=\"1\" class=\"dataframe\">\n",
       "  <thead>\n",
       "    <tr style=\"text-align: right;\">\n",
       "      <th></th>\n",
       "      <th>userId</th>\n",
       "      <th>eventId</th>\n",
       "      <th>eventTime</th>\n",
       "      <th>eventType</th>\n",
       "      <th>attributes</th>\n",
       "      <th>purchaseId</th>\n",
       "    </tr>\n",
       "  </thead>\n",
       "  <tbody>\n",
       "    <tr>\n",
       "      <th>0</th>\n",
       "      <td>u1</td>\n",
       "      <td>u1_e1</td>\n",
       "      <td>2019-01-01 00:00:00</td>\n",
       "      <td>app_open</td>\n",
       "      <td>{{\"campaign_id\": \"cmp1\",  \"channel_id\": \"Googl...</td>\n",
       "      <td></td>\n",
       "    </tr>\n",
       "    <tr>\n",
       "      <th>1</th>\n",
       "      <td>u1</td>\n",
       "      <td>u1_e2</td>\n",
       "      <td>2019-01-01 00:00:05</td>\n",
       "      <td>search_product</td>\n",
       "      <td>NaN</td>\n",
       "      <td></td>\n",
       "    </tr>\n",
       "    <tr>\n",
       "      <th>2</th>\n",
       "      <td>u1</td>\n",
       "      <td>u1_e3</td>\n",
       "      <td>2019-01-01 00:00:10</td>\n",
       "      <td>search_product</td>\n",
       "      <td>NaN</td>\n",
       "      <td></td>\n",
       "    </tr>\n",
       "    <tr>\n",
       "      <th>3</th>\n",
       "      <td>u1</td>\n",
       "      <td>u1_e4</td>\n",
       "      <td>2019-01-01 00:00:15</td>\n",
       "      <td>search_product</td>\n",
       "      <td>NaN</td>\n",
       "      <td></td>\n",
       "    </tr>\n",
       "    <tr>\n",
       "      <th>4</th>\n",
       "      <td>u1</td>\n",
       "      <td>u1_e5</td>\n",
       "      <td>2019-01-01 00:00:20</td>\n",
       "      <td>view_product_details</td>\n",
       "      <td>NaN</td>\n",
       "      <td></td>\n",
       "    </tr>\n",
       "    <tr>\n",
       "      <th>5</th>\n",
       "      <td>u1</td>\n",
       "      <td>u1_e6</td>\n",
       "      <td>2019-01-01 00:01:00</td>\n",
       "      <td>purchase</td>\n",
       "      <td>{{\"purchase_id\": \"p1\"}}</td>\n",
       "      <td>p1</td>\n",
       "    </tr>\n",
       "    <tr>\n",
       "      <th>6</th>\n",
       "      <td>u1</td>\n",
       "      <td>u1_e7</td>\n",
       "      <td>2019-01-01 00:02:00</td>\n",
       "      <td>app_close</td>\n",
       "      <td>NaN</td>\n",
       "      <td></td>\n",
       "    </tr>\n",
       "  </tbody>\n",
       "</table>\n",
       "</div>"
      ],
      "text/plain": [
       "  userId eventId           eventTime             eventType  \\\n",
       "0     u1   u1_e1 2019-01-01 00:00:00              app_open   \n",
       "1     u1   u1_e2 2019-01-01 00:00:05        search_product   \n",
       "2     u1   u1_e3 2019-01-01 00:00:10        search_product   \n",
       "3     u1   u1_e4 2019-01-01 00:00:15        search_product   \n",
       "4     u1   u1_e5 2019-01-01 00:00:20  view_product_details   \n",
       "5     u1   u1_e6 2019-01-01 00:01:00              purchase   \n",
       "6     u1   u1_e7 2019-01-01 00:02:00             app_close   \n",
       "\n",
       "                                          attributes purchaseId  \n",
       "0  {{\"campaign_id\": \"cmp1\",  \"channel_id\": \"Googl...             \n",
       "1                                                NaN             \n",
       "2                                                NaN             \n",
       "3                                                NaN             \n",
       "4                                                NaN             \n",
       "5                            {{\"purchase_id\": \"p1\"}}         p1  \n",
       "6                                                NaN             "
      ]
     },
     "execution_count": 184,
     "metadata": {},
     "output_type": "execute_result"
    }
   ],
   "source": [
    "df_c[\"purchaseId\"] = df_c.attributes.apply(get_purchase_id)\n",
    "\n",
    "df_c.head(7)"
   ]
  },
  {
   "cell_type": "code",
   "execution_count": 171,
   "metadata": {},
   "outputs": [
    {
     "data": {
      "text/plain": [
       "(6, 4)"
      ]
     },
     "execution_count": 171,
     "metadata": {},
     "output_type": "execute_result"
    }
   ],
   "source": [
    "df_p = pd.read_excel(\"../sample/purchases_sample.xlsx\")\n",
    "df_p = df_p.astype({\"purchaseId\":\"str\"})\n",
    "df_p.shape"
   ]
  },
  {
   "cell_type": "code",
   "execution_count": 172,
   "metadata": {},
   "outputs": [
    {
     "data": {
      "text/html": [
       "<div>\n",
       "<style scoped>\n",
       "    .dataframe tbody tr th:only-of-type {\n",
       "        vertical-align: middle;\n",
       "    }\n",
       "\n",
       "    .dataframe tbody tr th {\n",
       "        vertical-align: top;\n",
       "    }\n",
       "\n",
       "    .dataframe thead th {\n",
       "        text-align: right;\n",
       "    }\n",
       "</style>\n",
       "<table border=\"1\" class=\"dataframe\">\n",
       "  <thead>\n",
       "    <tr style=\"text-align: right;\">\n",
       "      <th></th>\n",
       "      <th>purchaseId</th>\n",
       "      <th>purchaseTime</th>\n",
       "      <th>billingCost</th>\n",
       "      <th>isConfirmed</th>\n",
       "    </tr>\n",
       "  </thead>\n",
       "  <tbody>\n",
       "    <tr>\n",
       "      <th>0</th>\n",
       "      <td>p1</td>\n",
       "      <td>2019-01-01 00:01:05</td>\n",
       "      <td>100.5</td>\n",
       "      <td>True</td>\n",
       "    </tr>\n",
       "    <tr>\n",
       "      <th>1</th>\n",
       "      <td>p2</td>\n",
       "      <td>2019-01-01 00:03:10</td>\n",
       "      <td>200.0</td>\n",
       "      <td>True</td>\n",
       "    </tr>\n",
       "    <tr>\n",
       "      <th>2</th>\n",
       "      <td>p3</td>\n",
       "      <td>2019-01-01 01:12:15</td>\n",
       "      <td>300.0</td>\n",
       "      <td>False</td>\n",
       "    </tr>\n",
       "    <tr>\n",
       "      <th>3</th>\n",
       "      <td>p4</td>\n",
       "      <td>2019-01-01 02:13:05</td>\n",
       "      <td>50.2</td>\n",
       "      <td>True</td>\n",
       "    </tr>\n",
       "    <tr>\n",
       "      <th>4</th>\n",
       "      <td>p5</td>\n",
       "      <td>2019-01-01 02:15:05</td>\n",
       "      <td>75.0</td>\n",
       "      <td>True</td>\n",
       "    </tr>\n",
       "    <tr>\n",
       "      <th>5</th>\n",
       "      <td>p6</td>\n",
       "      <td>2019-01-02 13:03:00</td>\n",
       "      <td>99.0</td>\n",
       "      <td>False</td>\n",
       "    </tr>\n",
       "  </tbody>\n",
       "</table>\n",
       "</div>"
      ],
      "text/plain": [
       "  purchaseId        purchaseTime  billingCost  isConfirmed\n",
       "0         p1 2019-01-01 00:01:05        100.5         True\n",
       "1         p2 2019-01-01 00:03:10        200.0         True\n",
       "2         p3 2019-01-01 01:12:15        300.0        False\n",
       "3         p4 2019-01-01 02:13:05         50.2         True\n",
       "4         p5 2019-01-01 02:15:05         75.0         True\n",
       "5         p6 2019-01-02 13:03:00         99.0        False"
      ]
     },
     "execution_count": 172,
     "metadata": {},
     "output_type": "execute_result"
    }
   ],
   "source": [
    "df_p.head(6)"
   ]
  },
  {
   "cell_type": "code",
   "execution_count": 189,
   "metadata": {},
   "outputs": [
    {
     "name": "stdout",
     "output_type": "stream",
     "text": [
      "<class 'pandas.core.frame.DataFrame'>\n",
      "RangeIndex: 6 entries, 0 to 5\n",
      "Data columns (total 4 columns):\n",
      " #   Column        Non-Null Count  Dtype         \n",
      "---  ------        --------------  -----         \n",
      " 0   purchaseId    6 non-null      object        \n",
      " 1   purchaseTime  6 non-null      datetime64[ns]\n",
      " 2   billingCost   6 non-null      float64       \n",
      " 3   isConfirmed   6 non-null      bool          \n",
      "dtypes: bool(1), datetime64[ns](1), float64(1), object(1)\n",
      "memory usage: 278.0+ bytes\n"
     ]
    }
   ],
   "source": [
    "df_p.info()"
   ]
  },
  {
   "cell_type": "code",
   "execution_count": null,
   "metadata": {
    "collapsed": true
   },
   "outputs": [],
   "source": []
  }
 ],
 "metadata": {
  "kernelspec": {
   "display_name": "Python 3",
   "language": "python",
   "name": "python3"
  },
  "language_info": {
   "codemirror_mode": {
    "name": "ipython",
    "version": 3
   },
   "file_extension": ".py",
   "mimetype": "text/x-python",
   "name": "python",
   "nbconvert_exporter": "python",
   "pygments_lexer": "ipython3",
   "version": "3.6.3"
  }
 },
 "nbformat": 4,
 "nbformat_minor": 2
}
